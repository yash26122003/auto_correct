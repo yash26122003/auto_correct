{
 "cells": [
  {
   "cell_type": "code",
   "execution_count": null,
   "metadata": {},
   "outputs": [],
   "source": [
    "import nltk\n",
    "from nltk.corpus import words\n",
    "from nltk.metrics.distance import edit_distance"
   ]
  },
  {
   "cell_type": "code",
   "execution_count": null,
   "metadata": {},
   "outputs": [],
   "source": [
    "nltk.download('words')"
   ]
  },
  {
   "cell_type": "code",
   "execution_count": null,
   "metadata": {},
   "outputs": [],
   "source": [
    "english_words = set(words.words())\n",
    "def auto_correct(word):\n",
    "    word = word.lower()  \n",
    "    if word in english_words:\n",
    "        return word\n",
    "    # Find the closest word using edit distance\n",
    "    min_distance = float('inf')\n",
    "    closest_word = None\n",
    "\n",
    "    for w in english_words:\n",
    "        distance = edit_distance(word, w)\n",
    "        if distance < min_distance:\n",
    "            min_distance = distance\n",
    "            closest_word = w\n",
    "    return closest_word\n",
    "while True:\n",
    "    input_word = input(\"Enter a word (type 'exit' to stop): \")\n",
    "\n",
    "    if input_word.lower() == 'exit':\n",
    "        break\n",
    "    corrected_word = auto_correct(input_word)\n",
    "    print(\"Input Word:\", input_word)\n",
    "    print(\"Corrected Word:\", corrected_word)\n",
    "\n"
   ]
  }
 ],
 "metadata": {
  "language_info": {
   "name": "python"
  },
  "orig_nbformat": 4
 },
 "nbformat": 4,
 "nbformat_minor": 2
}
